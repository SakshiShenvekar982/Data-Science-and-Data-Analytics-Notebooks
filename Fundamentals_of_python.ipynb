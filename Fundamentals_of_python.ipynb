{
  "cells": [
    {
      "cell_type": "markdown",
      "metadata": {
        "id": "view-in-github",
        "colab_type": "text"
      },
      "source": [
        "<a href=\"https://colab.research.google.com/github/SakshiShenvekar982/Data-Science-and-Data-Analytics-Notebooks/blob/main/Fundamentals_of_python.ipynb\" target=\"_parent\"><img src=\"https://colab.research.google.com/assets/colab-badge.svg\" alt=\"Open In Colab\"/></a>"
      ]
    },
    {
      "cell_type": "markdown",
      "source": [
        "# 1. Python Output"
      ],
      "metadata": {
        "id": "qroAln-iTCiV"
      }
    },
    {
      "cell_type": "code",
      "execution_count": null,
      "metadata": {
        "colab": {
          "base_uri": "https://localhost:8080/"
        },
        "id": "CCNiYpOLWQwI",
        "outputId": "0a31f2c9-4413-41bc-973b-2ea04af41df8"
      },
      "outputs": [
        {
          "output_type": "stream",
          "name": "stdout",
          "text": [
            "Hello world\n"
          ]
        }
      ],
      "source": [
        "print('Hello world')"
      ]
    },
    {
      "cell_type": "code",
      "execution_count": null,
      "metadata": {
        "colab": {
          "base_uri": "https://localhost:8080/"
        },
        "id": "LOGL5rV3Wcfv",
        "outputId": "7a4a4829-a8c5-4d31-f8fc-a49cb2917520"
      },
      "outputs": [
        {
          "output_type": "stream",
          "name": "stdout",
          "text": [
            "7\n",
            "7.1\n",
            "Hello World 1 3 5\n"
          ]
        }
      ],
      "source": [
        "print(7)\n",
        "print(7.1)\n",
        "print('Hello World',1,3,5)"
      ]
    },
    {
      "cell_type": "code",
      "execution_count": null,
      "metadata": {
        "colab": {
          "base_uri": "https://localhost:8080/"
        },
        "id": "ws9SrlA_W2sR",
        "outputId": "227781bd-fb1a-4e44-c8dd-94a326c3ddcb"
      },
      "outputs": [
        {
          "output_type": "stream",
          "name": "stdout",
          "text": [
            "Hello World/1/3/5\n"
          ]
        }
      ],
      "source": [
        "print('Hello World',1,3,5,sep = \"/\")"
      ]
    },
    {
      "cell_type": "markdown",
      "source": [
        "# 2. Data Types"
      ],
      "metadata": {
        "id": "AwQPkPpXTN0X"
      }
    },
    {
      "cell_type": "code",
      "execution_count": null,
      "metadata": {
        "id": "lPRRMxx9XQhy"
      },
      "outputs": [],
      "source": [
        "#1. Integer 1,2,3,4,....\n",
        "#2. Float 1.2,3.4,4.0,.."
      ]
    },
    {
      "cell_type": "code",
      "execution_count": null,
      "metadata": {
        "colab": {
          "base_uri": "https://localhost:8080/"
        },
        "id": "kH9ZYnFxXlIj",
        "outputId": "d637abe6-07ec-416a-b165-4057885b3eee"
      },
      "outputs": [
        {
          "output_type": "stream",
          "name": "stdout",
          "text": [
            "7\n"
          ]
        },
        {
          "output_type": "execute_result",
          "data": {
            "text/plain": [
              "int"
            ]
          },
          "metadata": {},
          "execution_count": 5
        }
      ],
      "source": [
        "print(7)\n",
        "type(7)"
      ]
    },
    {
      "cell_type": "code",
      "execution_count": null,
      "metadata": {
        "colab": {
          "base_uri": "https://localhost:8080/"
        },
        "id": "CEJCTxjnXujz",
        "outputId": "d9c4014c-b36b-4507-eca5-9b68c8e77f10"
      },
      "outputs": [
        {
          "output_type": "stream",
          "name": "stdout",
          "text": [
            "9.8\n"
          ]
        },
        {
          "output_type": "execute_result",
          "data": {
            "text/plain": [
              "float"
            ]
          },
          "metadata": {},
          "execution_count": 6
        }
      ],
      "source": [
        "print(9.8)\n",
        "type(9.8)"
      ]
    },
    {
      "cell_type": "code",
      "execution_count": null,
      "metadata": {
        "colab": {
          "base_uri": "https://localhost:8080/"
        },
        "id": "0UzF_zoMX1Rg",
        "outputId": "8340e65f-3930-49e8-a733-048786d1877d"
      },
      "outputs": [
        {
          "output_type": "execute_result",
          "data": {
            "text/plain": [
              "str"
            ]
          },
          "metadata": {},
          "execution_count": 7
        }
      ],
      "source": [
        "#3. String (\" \")\n",
        "type(\"Hello World\")"
      ]
    },
    {
      "cell_type": "code",
      "execution_count": null,
      "metadata": {
        "colab": {
          "base_uri": "https://localhost:8080/"
        },
        "id": "KA0HJdZ-YXMK",
        "outputId": "a8079ed8-4963-468b-ff5c-3939a5ead8ba"
      },
      "outputs": [
        {
          "output_type": "stream",
          "name": "stdout",
          "text": [
            "(1, 2, 3, 4)\n"
          ]
        },
        {
          "output_type": "execute_result",
          "data": {
            "text/plain": [
              "tuple"
            ]
          },
          "metadata": {},
          "execution_count": 8
        }
      ],
      "source": [
        "#4. tuple ()\n",
        "#immutable\n",
        "print((1,2,3,4))\n",
        "type((1,2,3,4))"
      ]
    },
    {
      "cell_type": "code",
      "execution_count": null,
      "metadata": {
        "colab": {
          "base_uri": "https://localhost:8080/"
        },
        "id": "3xtpknLvYhvi",
        "outputId": "83d36f6c-5ba1-4959-a10c-2cd8ac2594c8"
      },
      "outputs": [
        {
          "output_type": "stream",
          "name": "stdout",
          "text": [
            "[1, 2, 3, 4, 5]\n"
          ]
        },
        {
          "output_type": "execute_result",
          "data": {
            "text/plain": [
              "list"
            ]
          },
          "metadata": {},
          "execution_count": 9
        }
      ],
      "source": [
        "#5. List []\n",
        "#Mutable\n",
        "print([1,2,3,4,5])\n",
        "type([1,2,3,4,5])"
      ]
    },
    {
      "cell_type": "code",
      "execution_count": null,
      "metadata": {
        "colab": {
          "base_uri": "https://localhost:8080/"
        },
        "id": "gcB1409vYrqY",
        "outputId": "905a851f-cd12-42ab-fe52-6a7e49d6e71e"
      },
      "outputs": [
        {
          "output_type": "stream",
          "name": "stdout",
          "text": [
            "{1, 2, 3, 4, 5, 6}\n"
          ]
        },
        {
          "output_type": "execute_result",
          "data": {
            "text/plain": [
              "set"
            ]
          },
          "metadata": {},
          "execution_count": 10
        }
      ],
      "source": [
        "#Set {}\n",
        "#Mutable\n",
        "print({1,2,3,4,5,6})\n",
        "type({1,2,3,4,5,6})"
      ]
    },
    {
      "cell_type": "code",
      "execution_count": null,
      "metadata": {
        "colab": {
          "base_uri": "https://localhost:8080/"
        },
        "id": "bGtl4SgvY244",
        "outputId": "b426621d-c883-4337-da95-e3bedf44ff89"
      },
      "outputs": [
        {
          "output_type": "stream",
          "name": "stdout",
          "text": [
            "{1: 'A', 2: 'B', 3: 'C'}\n"
          ]
        },
        {
          "output_type": "execute_result",
          "data": {
            "text/plain": [
              "dict"
            ]
          },
          "metadata": {},
          "execution_count": 12
        }
      ],
      "source": [
        "#Dictionary {key:value}\n",
        "#Mutable\n",
        "print({1:\"A\",2:\"B\",3:\"C\"})\n",
        "type({1:\"A\",2:\"B\",3:\"C\"})"
      ]
    },
    {
      "cell_type": "markdown",
      "source": [
        "# 3. Variables"
      ],
      "metadata": {
        "id": "ZJqX23n8TXUY"
      }
    },
    {
      "cell_type": "code",
      "execution_count": null,
      "metadata": {
        "colab": {
          "base_uri": "https://localhost:8080/"
        },
        "id": "YVyEGOm4ZZKx",
        "outputId": "0a742c37-d93e-4819-844c-affbe5a4bba7"
      },
      "outputs": [
        {
          "output_type": "stream",
          "name": "stdout",
          "text": [
            "1 2 3 Hello\n"
          ]
        }
      ],
      "source": [
        "#container to store values\n",
        "a = 1\n",
        "b = 2\n",
        "c = 3\n",
        "d = \"Hello\"\n",
        "print(a,b,c,d)"
      ]
    },
    {
      "cell_type": "code",
      "execution_count": null,
      "metadata": {
        "colab": {
          "base_uri": "https://localhost:8080/"
        },
        "id": "7x0d9iJVZiV7",
        "outputId": "0f21a559-0869-4302-9de5-65ac5b6f20cd"
      },
      "outputs": [
        {
          "output_type": "stream",
          "name": "stdout",
          "text": [
            "1 2 3 Hello\n"
          ]
        }
      ],
      "source": [
        "a,b,c,d = 1,2,3,\"Hello\"\n",
        "print(a,b,c,d)"
      ]
    },
    {
      "cell_type": "code",
      "execution_count": null,
      "metadata": {
        "colab": {
          "base_uri": "https://localhost:8080/"
        },
        "id": "9A8Jhb4RZ4Y0",
        "outputId": "123f6d00-9a1b-4936-a805-834a70bb3548"
      },
      "outputs": [
        {
          "output_type": "stream",
          "name": "stdout",
          "text": [
            "4 4 4\n"
          ]
        }
      ],
      "source": [
        "a = b = c = 4\n",
        "print(a,b,c)"
      ]
    },
    {
      "cell_type": "markdown",
      "source": [
        "# 4. Keywords and Identifiers"
      ],
      "metadata": {
        "id": "YawrnmpRTgcw"
      }
    },
    {
      "cell_type": "code",
      "execution_count": null,
      "metadata": {
        "id": "MzCqkwVIayYi"
      },
      "outputs": [],
      "source": [
        "#keywords are set of reserved words that cannot be used as variable names.\n",
        "#(if, else, break, print, def) etc"
      ]
    },
    {
      "cell_type": "code",
      "execution_count": null,
      "metadata": {
        "colab": {
          "base_uri": "https://localhost:8080/"
        },
        "id": "vqE1hdCXbb95",
        "outputId": "446ea66d-3fba-4350-d1f1-706ebde87945"
      },
      "outputs": [
        {
          "output_type": "stream",
          "name": "stdout",
          "text": [
            "1\n"
          ]
        }
      ],
      "source": [
        "#Identifiers are variable name we give to identify variables.\n",
        "'''Rules for identifiers:\n",
        "1. Cannot start with number or symbol.\n",
        "2. can start with underscore'''\n",
        "_a= 1\n",
        "print(_a)"
      ]
    },
    {
      "cell_type": "markdown",
      "source": [
        "# 5. User Input"
      ],
      "metadata": {
        "id": "66lwTU6wTqCP"
      }
    },
    {
      "cell_type": "code",
      "execution_count": null,
      "metadata": {
        "colab": {
          "base_uri": "https://localhost:8080/",
          "height": 53
        },
        "id": "F4Xix0qscXkO",
        "outputId": "212bc03b-2799-4076-bc77-b76d5f620844"
      },
      "outputs": [
        {
          "name": "stdout",
          "output_type": "stream",
          "text": [
            "Enter Email id:sakshi@gmail.com\n"
          ]
        },
        {
          "output_type": "execute_result",
          "data": {
            "text/plain": [
              "'sakshi@gmail.com'"
            ],
            "application/vnd.google.colaboratory.intrinsic+json": {
              "type": "string"
            }
          },
          "metadata": {},
          "execution_count": 18
        }
      ],
      "source": [
        "input(\"Enter Email id:\")"
      ]
    },
    {
      "cell_type": "markdown",
      "source": [
        "# 6. Type Conversion"
      ],
      "metadata": {
        "id": "3C4RcxrWTyQV"
      }
    },
    {
      "cell_type": "code",
      "execution_count": null,
      "metadata": {
        "colab": {
          "base_uri": "https://localhost:8080/"
        },
        "id": "cQ33mECec0tk",
        "outputId": "fb689b49-4504-47ee-ef7e-045cadcacd44"
      },
      "outputs": [
        {
          "output_type": "stream",
          "name": "stdout",
          "text": [
            "Enter Name:Sakshi\n",
            "Enter Age:23\n",
            "Name: Sakshi\n",
            "Age: 23\n"
          ]
        }
      ],
      "source": [
        "name = input(\"Enter Name:\")\n",
        "age =  int(input(\"Enter Age:\")) #explicit type conversion\n",
        "print(\"Name:\",name)\n",
        "print(\"Age:\",age)"
      ]
    },
    {
      "cell_type": "markdown",
      "source": [
        "# 7. Operators"
      ],
      "metadata": {
        "id": "I1cGBJS1T2Ge"
      }
    },
    {
      "cell_type": "code",
      "execution_count": null,
      "metadata": {
        "colab": {
          "base_uri": "https://localhost:8080/"
        },
        "id": "xLIm6Al7eQl4",
        "outputId": "ed9653a2-4612-44a7-92df-05c8f6119d92"
      },
      "outputs": [
        {
          "output_type": "stream",
          "name": "stdout",
          "text": [
            "10\n",
            "5\n",
            "12\n",
            "2.5\n",
            "1\n",
            "25\n"
          ]
        }
      ],
      "source": [
        "#Arithmetic Operators(+,-,*,/,%,**)\n",
        "print(5+5)\n",
        "print(10-5)\n",
        "print(2*6)\n",
        "print(5/2)\n",
        "print(5%2)\n",
        "print(5**2)"
      ]
    },
    {
      "cell_type": "code",
      "execution_count": null,
      "metadata": {
        "colab": {
          "base_uri": "https://localhost:8080/"
        },
        "id": "jZ3qdTz6fPwu",
        "outputId": "d6d020fa-5f89-4a73-be5e-a1a7613effaa"
      },
      "outputs": [
        {
          "output_type": "stream",
          "name": "stdout",
          "text": [
            "False\n",
            "True\n",
            "False\n",
            "True\n"
          ]
        }
      ],
      "source": [
        "#Relational/Comparison Operators(=,!=,>,<,>=,<=)\n",
        "print(4>5)\n",
        "print(4<5)\n",
        "print(4==3)\n",
        "print(4!=3)"
      ]
    },
    {
      "cell_type": "code",
      "execution_count": null,
      "metadata": {
        "id": "5lHyZLZGaQS1",
        "colab": {
          "base_uri": "https://localhost:8080/"
        },
        "outputId": "0bc4c135-f9f3-4c96-d977-92260b8eb36b"
      },
      "outputs": [
        {
          "output_type": "stream",
          "name": "stdout",
          "text": [
            "5\n",
            "8\n",
            "4\n",
            "8\n",
            "4.0\n",
            "0.0\n",
            "0.0\n"
          ]
        }
      ],
      "source": [
        "#Assignment Operators (=, +=, -=, *=, /=, %=, **=)\n",
        "x = 5\n",
        "print(x)\n",
        "x += 3\n",
        "print(x)\n",
        "x -= 4\n",
        "print(x)\n",
        "x *= 2\n",
        "print(x)\n",
        "x /= 2\n",
        "print(x)\n",
        "x %= 2\n",
        "print(x)\n",
        "x **= 2\n",
        "print(x)"
      ]
    },
    {
      "cell_type": "code",
      "execution_count": null,
      "metadata": {
        "colab": {
          "base_uri": "https://localhost:8080/"
        },
        "id": "-QNz8ayoZUrH",
        "outputId": "69c58aff-b1f6-4a70-bc53-898dbbe4f3f4"
      },
      "outputs": [
        {
          "output_type": "stream",
          "name": "stdout",
          "text": [
            "2\n",
            "3\n",
            "1\n"
          ]
        }
      ],
      "source": [
        "#Bitwise Operators\n",
        "#Special operators which works on binary numbers\n",
        "\n",
        "print(2 & 3) #Bitwise AND Operator\n",
        "\n",
        "print(2 | 3) #Bitwise OR Operator\n",
        "\n",
        "print(2 ^ 3) #Bitwise XOR Operator"
      ]
    },
    {
      "cell_type": "markdown",
      "source": [
        "# Conditional Statements"
      ],
      "metadata": {
        "id": "mpRXLV9YVteN"
      }
    },
    {
      "cell_type": "markdown",
      "metadata": {
        "id": "RMVV7ogzcjRD"
      },
      "source": [
        "1. if-else statement"
      ]
    },
    {
      "cell_type": "code",
      "execution_count": null,
      "metadata": {
        "colab": {
          "base_uri": "https://localhost:8080/"
        },
        "id": "cKerlWIicoJp",
        "outputId": "fc393002-563a-4e56-cd8f-7d33d4d13341"
      },
      "outputs": [
        {
          "output_type": "stream",
          "name": "stdout",
          "text": [
            "Enter your email: ab@gmail.com\n",
            "Enter your password: 1234\n",
            "Incorrect Email\n",
            "Enter your Email again: abc@gmail.com\n",
            "Logged in Sucessfully\n"
          ]
        }
      ],
      "source": [
        "#Login Program and indentation\n",
        "#email -> abc@gmail.com\n",
        "#pwd -> 1234\n",
        "email = input(\"Enter your email: \")\n",
        "pwd = int(input(\"Enter your password: \"))\n",
        "if email == \"abc@gmail.com\" and pwd == 1234:\n",
        "  print(\"Logged in Sucessfully\")\n",
        "elif email == \"abc@gmail.com\" and pwd != 1234:\n",
        "  print(\"Incorrect Password\")\n",
        "  pwd = int(input(\"Enter your password again: \"))\n",
        "  if pwd == 1234:\n",
        "    print(\"Logged in Sucessfully\")\n",
        "  else:\n",
        "    print(\"Leave it!\")\n",
        "elif email != \"abc@gmail.com\" and pwd == 1234:\n",
        "  print(\"Incorrect Email\")\n",
        "  email = input(\"Enter your Email again: \")\n",
        "  if email == \"abc@gmail.com\":\n",
        "    print(\"Logged in Sucessfully\")\n",
        "  else:\n",
        "    print(\"Leave it!\")\n",
        "else:\n",
        "  print(\"Invalid credentials\")\n"
      ]
    },
    {
      "cell_type": "markdown",
      "source": [
        "2. elif statement"
      ],
      "metadata": {
        "id": "Ms0XsQimVz1_"
      }
    },
    {
      "cell_type": "code",
      "execution_count": null,
      "metadata": {
        "colab": {
          "base_uri": "https://localhost:8080/"
        },
        "id": "1aGFWEpHjDjE",
        "outputId": "1185df76-f98c-4e36-c6e9-5229e540c145"
      },
      "outputs": [
        {
          "output_type": "stream",
          "name": "stdout",
          "text": [
            "Enter first Number: 10\n",
            "Enter second Number: 7\n",
            "Enter third Number: -5\n",
            "-5 is smaller than 10 and 7\n"
          ]
        }
      ],
      "source": [
        "num1 = int(input(\"Enter first Number: \"))\n",
        "num2 = int(input(\"Enter second Number: \"))\n",
        "num3 = int(input(\"Enter third Number: \"))\n",
        "if (num1<num2 and num1<num3):\n",
        "    print(num1, \"is smaller than\",num2 ,\"and\",num3)\n",
        "elif(num2<num3):\n",
        "    print(num2, \"is smaller than\",num1 ,\"and\",num3)\n",
        "else:\n",
        "    print(num3, \"is smaller than\",num1 ,\"and\",num2)"
      ]
    },
    {
      "cell_type": "markdown",
      "source": [
        "# Modules in Python"
      ],
      "metadata": {
        "id": "lsTkUvRMV8wT"
      }
    },
    {
      "cell_type": "code",
      "execution_count": null,
      "metadata": {
        "id": "cl23ZGIIl5PF"
      },
      "outputs": [],
      "source": [
        "#math, keywords, random, datetime"
      ]
    },
    {
      "cell_type": "code",
      "execution_count": null,
      "metadata": {
        "colab": {
          "base_uri": "https://localhost:8080/"
        },
        "id": "-6roce3NnAHp",
        "outputId": "0cea6649-fb00-43e5-99bc-5fc41c87d1b8"
      },
      "outputs": [
        {
          "output_type": "execute_result",
          "data": {
            "text/plain": [
              "120"
            ]
          },
          "metadata": {},
          "execution_count": 30
        }
      ],
      "source": [
        "#math\n",
        "import math\n",
        "math.factorial(5)"
      ]
    },
    {
      "cell_type": "code",
      "execution_count": null,
      "metadata": {
        "colab": {
          "base_uri": "https://localhost:8080/"
        },
        "id": "h5xvIdImnGWH",
        "outputId": "6cbf26aa-e238-4f7e-c11c-95e68e0d0c24"
      },
      "outputs": [
        {
          "output_type": "stream",
          "name": "stdout",
          "text": [
            "['False', 'None', 'True', 'and', 'as', 'assert', 'async', 'await', 'break', 'class', 'continue', 'def', 'del', 'elif', 'else', 'except', 'finally', 'for', 'from', 'global', 'if', 'import', 'in', 'is', 'lambda', 'nonlocal', 'not', 'or', 'pass', 'raise', 'return', 'try', 'while', 'with', 'yield']\n"
          ]
        }
      ],
      "source": [
        "#keywords\n",
        "import keyword\n",
        "print(keyword.kwlist)"
      ]
    },
    {
      "cell_type": "code",
      "execution_count": null,
      "metadata": {
        "colab": {
          "base_uri": "https://localhost:8080/"
        },
        "id": "I9QyaN3onQNG",
        "outputId": "38d1b200-5f50-4734-a644-9d30d5cf681e"
      },
      "outputs": [
        {
          "output_type": "stream",
          "name": "stdout",
          "text": [
            "62\n"
          ]
        }
      ],
      "source": [
        "#random\n",
        "import random\n",
        "print(random.randint(1,100))"
      ]
    },
    {
      "cell_type": "code",
      "execution_count": null,
      "metadata": {
        "colab": {
          "base_uri": "https://localhost:8080/"
        },
        "id": "RC2_iaoLniVg",
        "outputId": "312b6025-7f4f-4314-d9e8-c8c855a349f5"
      },
      "outputs": [
        {
          "output_type": "stream",
          "name": "stdout",
          "text": [
            "2024-04-05 17:50:29.705191\n"
          ]
        }
      ],
      "source": [
        "#datetime\n",
        "import datetime\n",
        "print(datetime.datetime.now())"
      ]
    },
    {
      "cell_type": "markdown",
      "source": [
        "# Loops - used to repeat instructions"
      ],
      "metadata": {
        "id": "wFIpjYkAWF5-"
      }
    },
    {
      "cell_type": "markdown",
      "metadata": {
        "id": "cpLq8sydoR2O"
      },
      "source": [
        "1. while Loop\n",
        "*   The while loop in python is used to iterate over a part of code till the specified condition is true.\n",
        "\n"
      ]
    },
    {
      "cell_type": "code",
      "execution_count": null,
      "metadata": {
        "id": "DhYrnlDJrhWB",
        "colab": {
          "base_uri": "https://localhost:8080/"
        },
        "outputId": "fa987392-b2da-4317-c4af-17b33d21c65b"
      },
      "outputs": [
        {
          "output_type": "stream",
          "name": "stdout",
          "text": [
            "enter a number: 8\n",
            "8 * 1 = 8\n",
            "8 * 2 = 16\n",
            "8 * 3 = 24\n",
            "8 * 4 = 32\n",
            "8 * 5 = 40\n",
            "8 * 6 = 48\n",
            "8 * 7 = 56\n",
            "8 * 8 = 64\n",
            "8 * 9 = 72\n",
            "8 * 10 = 80\n"
          ]
        }
      ],
      "source": [
        "#Multiplication table\n",
        "num = int(input(\"enter a number: \"))\n",
        "i = 1\n",
        "while i <= 10:\n",
        "    mul = num*i\n",
        "    print(\"{} * {} = {}\".format(num,i,mul))\n",
        "    i = i+1"
      ]
    },
    {
      "cell_type": "code",
      "source": [
        "#while loop along with else\n",
        "x = 1\n",
        "while x < 11:\n",
        "  print(x)\n",
        "  x = x+1\n",
        "else:\n",
        "  print('Limit Crossed!')"
      ],
      "metadata": {
        "colab": {
          "base_uri": "https://localhost:8080/"
        },
        "id": "kpm5Edo_CtV0",
        "outputId": "bef6329a-a32a-4c47-e4fe-7ebc94aaec33"
      },
      "execution_count": null,
      "outputs": [
        {
          "output_type": "stream",
          "name": "stdout",
          "text": [
            "1\n",
            "2\n",
            "3\n",
            "4\n",
            "5\n",
            "6\n",
            "7\n",
            "8\n",
            "9\n",
            "10\n",
            "Limit Crossed!\n"
          ]
        }
      ]
    },
    {
      "cell_type": "code",
      "source": [
        "count = 0\n",
        "while count <= 5:\n",
        "  print(count,\"The condition is true!\")\n",
        "  count = count + 1\n",
        "print(\"End of the loop\")"
      ],
      "metadata": {
        "colab": {
          "base_uri": "https://localhost:8080/"
        },
        "id": "ylQ_geBSDK8I",
        "outputId": "b9045974-09ac-4ea3-c944-762d7b07b613"
      },
      "execution_count": null,
      "outputs": [
        {
          "output_type": "stream",
          "name": "stdout",
          "text": [
            "0 The condition is true!\n",
            "1 The condition is true!\n",
            "2 The condition is true!\n",
            "3 The condition is true!\n",
            "4 The condition is true!\n",
            "5 The condition is true!\n",
            "End of the loop\n"
          ]
        }
      ]
    },
    {
      "cell_type": "code",
      "source": [
        "while True:\n",
        "  print(\"Please type your name..\")\n",
        "  name = input()\n",
        "  if name == \"Jenny\":\n",
        "    break\n",
        "print(\"Thank you, you entered correct name....\")"
      ],
      "metadata": {
        "colab": {
          "base_uri": "https://localhost:8080/"
        },
        "id": "687jUoD1F3Qj",
        "outputId": "7a783675-5956-4013-b136-cffff1dfabdf"
      },
      "execution_count": null,
      "outputs": [
        {
          "output_type": "stream",
          "name": "stdout",
          "text": [
            "Please type your name..\n",
            "Jim\n",
            "Please type your name..\n",
            "Jenny\n",
            "Thank you, you entered correct name....\n"
          ]
        }
      ]
    },
    {
      "cell_type": "code",
      "source": [
        "# LCM of 4 and 7\n",
        "x = 0\n",
        "while True:\n",
        "  x = x+1\n",
        "  if not(x % 4 or x % 7 ):\n",
        "    break\n",
        "print(x,'is divisible by both 4 and 7')"
      ],
      "metadata": {
        "colab": {
          "base_uri": "https://localhost:8080/"
        },
        "id": "9ScPu7pdGfVK",
        "outputId": "ded9a29e-7382-4f91-e017-adb754243866"
      },
      "execution_count": null,
      "outputs": [
        {
          "output_type": "stream",
          "name": "stdout",
          "text": [
            "28 is divisible by both 4 and 7\n"
          ]
        }
      ]
    },
    {
      "cell_type": "code",
      "source": [
        "i = 0\n",
        "while i<10:\n",
        "  i = i+1\n",
        "  if i == 6:\n",
        "    continue\n",
        "  print(i)"
      ],
      "metadata": {
        "colab": {
          "base_uri": "https://localhost:8080/"
        },
        "id": "QwEiwU8LJtGd",
        "outputId": "e63145c3-bd01-42b4-a323-3685cf299509"
      },
      "execution_count": null,
      "outputs": [
        {
          "output_type": "stream",
          "name": "stdout",
          "text": [
            "1\n",
            "2\n",
            "3\n",
            "4\n",
            "5\n",
            "7\n",
            "8\n",
            "9\n",
            "10\n"
          ]
        }
      ]
    },
    {
      "cell_type": "code",
      "source": [
        "#while loop with else\n",
        "i = 1\n",
        "while i < 5:\n",
        "  print(i)\n",
        "  i = i+1\n",
        "else:\n",
        "  print(\"i is not less than 5\")"
      ],
      "metadata": {
        "colab": {
          "base_uri": "https://localhost:8080/"
        },
        "id": "G73LCAyeLdA0",
        "outputId": "b992dceb-d3a3-4218-dde2-b90141763c8c"
      },
      "execution_count": null,
      "outputs": [
        {
          "output_type": "stream",
          "name": "stdout",
          "text": [
            "1\n",
            "2\n",
            "3\n",
            "4\n",
            "i is not less than 5\n"
          ]
        }
      ]
    },
    {
      "cell_type": "code",
      "source": [
        "a = [1,2,3,4,5]\n",
        "while a:\n",
        "  print(a.pop())\n",
        "else:\n",
        "  print(\"There are no elements left in the list.\")"
      ],
      "metadata": {
        "colab": {
          "base_uri": "https://localhost:8080/"
        },
        "id": "8xEDO-hrL984",
        "outputId": "208bec35-aa2f-421f-dacb-dd8983dfb569"
      },
      "execution_count": null,
      "outputs": [
        {
          "output_type": "stream",
          "name": "stdout",
          "text": [
            "5\n",
            "4\n",
            "3\n",
            "2\n",
            "1\n",
            "There are no elements left in the list.\n"
          ]
        }
      ]
    },
    {
      "cell_type": "markdown",
      "source": [
        "2. for loop\n",
        "* for loop in python is used to iterate\n",
        "over items present in a sequence, such as lists, tuples, dictionaries or strings.\n",
        "*  A for loop uses the range() function to iterate for a specific amount of time."
      ],
      "metadata": {
        "id": "uqU-j9SDgqXd"
      }
    },
    {
      "cell_type": "code",
      "source": [
        "#for loop using range function\n",
        "#syntax -> range(start,end,step) end is exclusive\n",
        "for i in range(1,11):\n",
        "  print(i)\n"
      ],
      "metadata": {
        "colab": {
          "base_uri": "https://localhost:8080/"
        },
        "id": "w8bi5Q_Igs12",
        "outputId": "613df1c0-1448-44e1-f7f9-6919a95a5d82"
      },
      "execution_count": null,
      "outputs": [
        {
          "output_type": "stream",
          "name": "stdout",
          "text": [
            "1\n",
            "2\n",
            "3\n",
            "4\n",
            "5\n",
            "6\n",
            "7\n",
            "8\n",
            "9\n",
            "10\n"
          ]
        }
      ]
    },
    {
      "cell_type": "code",
      "source": [
        "#print even numbers from 1 to 10\n",
        "for i in range(0,11,2):\n",
        "  print(i)"
      ],
      "metadata": {
        "colab": {
          "base_uri": "https://localhost:8080/"
        },
        "id": "rhCN8t-pDEc-",
        "outputId": "6515742b-71a8-4259-df47-26df7d2d4357"
      },
      "execution_count": null,
      "outputs": [
        {
          "output_type": "stream",
          "name": "stdout",
          "text": [
            "0\n",
            "2\n",
            "4\n",
            "6\n",
            "8\n",
            "10\n"
          ]
        }
      ]
    },
    {
      "cell_type": "code",
      "source": [
        "#for loop on string sequence\n",
        "for i in \"Delhi\":\n",
        "  print(i)"
      ],
      "metadata": {
        "colab": {
          "base_uri": "https://localhost:8080/"
        },
        "id": "WOlDDoIMmiTr",
        "outputId": "1cdfb168-13e7-4104-d797-0ad3c4f5300f"
      },
      "execution_count": null,
      "outputs": [
        {
          "output_type": "stream",
          "name": "stdout",
          "text": [
            "D\n",
            "e\n",
            "l\n",
            "h\n",
            "i\n"
          ]
        }
      ]
    },
    {
      "cell_type": "code",
      "source": [
        "#for loop on list sequence\n",
        "for i in [1,2,3,4,5]:\n",
        "  print(i)"
      ],
      "metadata": {
        "colab": {
          "base_uri": "https://localhost:8080/"
        },
        "id": "et7z3uN5mwFf",
        "outputId": "245b0c26-f835-4d43-e8c0-6585b5c4800e"
      },
      "execution_count": null,
      "outputs": [
        {
          "output_type": "stream",
          "name": "stdout",
          "text": [
            "1\n",
            "2\n",
            "3\n",
            "4\n",
            "5\n"
          ]
        }
      ]
    },
    {
      "cell_type": "code",
      "source": [
        "#String\n",
        "s = \"SakshiShenvekar\"\n",
        "for i in s:\n",
        "  print(i,end=\"*\")"
      ],
      "metadata": {
        "colab": {
          "base_uri": "https://localhost:8080/"
        },
        "id": "Aw9OLLRdm6oH",
        "outputId": "e528e875-b2ad-4cce-d812-c71fc8fc2675"
      },
      "execution_count": null,
      "outputs": [
        {
          "output_type": "stream",
          "name": "stdout",
          "text": [
            "S*a*k*s*h*i*S*h*e*n*v*e*k*a*r*"
          ]
        }
      ]
    },
    {
      "cell_type": "code",
      "source": [
        "#list\n",
        "l = ['Sakshi','Vinod','Vidhi','Rutuja','Sumedh','Kajol']\n",
        "for i in l:\n",
        "  print(i)"
      ],
      "metadata": {
        "colab": {
          "base_uri": "https://localhost:8080/"
        },
        "id": "OuqP4gginCiN",
        "outputId": "e53acb0e-0daa-442e-f21e-d8e79b3f2a49"
      },
      "execution_count": null,
      "outputs": [
        {
          "output_type": "stream",
          "name": "stdout",
          "text": [
            "Sakshi\n",
            "Vinod\n",
            "Vidhi\n",
            "Rutuja\n",
            "Sumedh\n",
            "Kajol\n"
          ]
        }
      ]
    },
    {
      "cell_type": "code",
      "source": [
        "#find the avg of a list of numbers\n",
        "list_num = [20,25,10,50,45]\n",
        "sum = 0\n",
        "for i in list_num:\n",
        "  sum = sum + i #0+20=20 ,\n",
        "print(\"sum =\",sum)\n",
        "print(\"average =\",sum/len(list_num) )\n",
        "print(len(list_num))\n"
      ],
      "metadata": {
        "colab": {
          "base_uri": "https://localhost:8080/"
        },
        "id": "XWQHHelInSDi",
        "outputId": "a4ae482c-2b53-45bb-8b86-68a10d43f20e"
      },
      "execution_count": null,
      "outputs": [
        {
          "output_type": "stream",
          "name": "stdout",
          "text": [
            "sum = 150\n",
            "average = 30.0\n",
            "5\n"
          ]
        }
      ]
    },
    {
      "cell_type": "code",
      "source": [
        "#for loop using tuple\n",
        "num = (30,45,60,50,70)\n",
        "sum = 0\n",
        "for i in num:\n",
        "  sum = sum + i\n",
        "print(sum)"
      ],
      "metadata": {
        "colab": {
          "base_uri": "https://localhost:8080/"
        },
        "id": "rC6jRD8goAyI",
        "outputId": "7b7b43e9-65d7-4418-9f1a-b4fb5308bf56"
      },
      "execution_count": null,
      "outputs": [
        {
          "output_type": "stream",
          "name": "stdout",
          "text": [
            "255\n"
          ]
        }
      ]
    },
    {
      "cell_type": "code",
      "source": [
        "#multiplication table\n",
        "num = int(input(\"Enter a number: \"))\n",
        "for i in range(1,11):\n",
        "  mul = num*i\n",
        "  print(\"{} * {} = {}\".format(num,i,mul))\n"
      ],
      "metadata": {
        "colab": {
          "base_uri": "https://localhost:8080/"
        },
        "id": "poUmhKCe6kJT",
        "outputId": "7e012a8b-a52c-4ca6-9c9c-dee13dd6454a"
      },
      "execution_count": null,
      "outputs": [
        {
          "output_type": "stream",
          "name": "stdout",
          "text": [
            "Enter a number: 3\n",
            "3 * 1 = 3\n",
            "3 * 2 = 6\n",
            "3 * 3 = 9\n",
            "3 * 4 = 12\n",
            "3 * 5 = 15\n",
            "3 * 6 = 18\n",
            "3 * 7 = 21\n",
            "3 * 8 = 24\n",
            "3 * 9 = 27\n",
            "3 * 10 = 30\n"
          ]
        }
      ]
    },
    {
      "cell_type": "code",
      "source": [
        "list_2 = ['C++','java','python','R']\n",
        "for i in range(len(list_2)):\n",
        "  print(\"hello\",list_2[i])"
      ],
      "metadata": {
        "colab": {
          "base_uri": "https://localhost:8080/"
        },
        "id": "Yry83tK87YTi",
        "outputId": "06671386-b864-4542-8640-9582c5b0e879"
      },
      "execution_count": null,
      "outputs": [
        {
          "output_type": "stream",
          "name": "stdout",
          "text": [
            "hello C++\n",
            "hello java\n",
            "hello python\n",
            "hello R\n"
          ]
        }
      ]
    },
    {
      "cell_type": "code",
      "source": [
        "#WAP -> The population of a town is 10000. The population of the town is increasing at the rate of 10% per year. You have to find out the population at the end of the last 10 year.\n",
        "cur_pop = 10000\n",
        "for i in range(10,0,-1):\n",
        "  print(\"Population at the end of the year\",i,\":\",cur_pop)\n",
        "  cur_pop = cur_pop/1.1\n"
      ],
      "metadata": {
        "colab": {
          "base_uri": "https://localhost:8080/"
        },
        "id": "nHmzjsCliLlk",
        "outputId": "620f9446-66a9-4c48-8199-dbe8ce9031c2"
      },
      "execution_count": null,
      "outputs": [
        {
          "output_type": "stream",
          "name": "stdout",
          "text": [
            "Population at the end of the year 10 : 10000\n",
            "Population at the end of the year 9 : 9090.90909090909\n",
            "Population at the end of the year 8 : 8264.462809917353\n",
            "Population at the end of the year 7 : 7513.148009015775\n",
            "Population at the end of the year 6 : 6830.134553650703\n",
            "Population at the end of the year 5 : 6209.213230591548\n",
            "Population at the end of the year 4 : 5644.739300537771\n",
            "Population at the end of the year 3 : 5131.5811823070635\n",
            "Population at the end of the year 2 : 4665.07380209733\n",
            "Population at the end of the year 1 : 4240.976183724845\n"
          ]
        }
      ]
    },
    {
      "cell_type": "markdown",
      "source": [
        "# **Nested** **for** **Loops**"
      ],
      "metadata": {
        "id": "p1y34ULDnIdE"
      }
    },
    {
      "cell_type": "code",
      "source": [
        "companies = [\"Google\",\"Apple\",\"PWC\",\"Uber\"]\n",
        "for i in companies:\n",
        "  print(\"We will display each letter of\",i)\n",
        "  for letter in i:\n",
        "    print(letter)"
      ],
      "metadata": {
        "colab": {
          "base_uri": "https://localhost:8080/"
        },
        "id": "YyuHeEoo7wpC",
        "outputId": "e0bd110d-041d-40d9-ca14-4874da6111a9"
      },
      "execution_count": null,
      "outputs": [
        {
          "output_type": "stream",
          "name": "stdout",
          "text": [
            "We will display each letter of Google\n",
            "G\n",
            "o\n",
            "o\n",
            "g\n",
            "l\n",
            "e\n",
            "We will display each letter of Apple\n",
            "A\n",
            "p\n",
            "p\n",
            "l\n",
            "e\n",
            "We will display each letter of PWC\n",
            "P\n",
            "W\n",
            "C\n",
            "We will display each letter of Uber\n",
            "U\n",
            "b\n",
            "e\n",
            "r\n"
          ]
        }
      ]
    },
    {
      "cell_type": "code",
      "source": [
        "#printing unique values\n",
        "for i in range(1,4):\n",
        "  for j in range(1,4):\n",
        "    print(i,j)"
      ],
      "metadata": {
        "colab": {
          "base_uri": "https://localhost:8080/"
        },
        "id": "YhhKKxd8xXZt",
        "outputId": "88810223-2a00-4aa8-aef7-a4bcf90f21b5"
      },
      "execution_count": null,
      "outputs": [
        {
          "output_type": "stream",
          "name": "stdout",
          "text": [
            "1 1\n",
            "1 2\n",
            "1 3\n",
            "2 1\n",
            "2 2\n",
            "2 3\n",
            "3 1\n",
            "3 2\n",
            "3 3\n"
          ]
        }
      ]
    },
    {
      "cell_type": "code",
      "source": [
        "#for loop with else clause\n",
        "for i in range(1,11,2):\n",
        "  print(i)\n",
        "else:\n",
        "  print(\"The loop has completed execution\")"
      ],
      "metadata": {
        "colab": {
          "base_uri": "https://localhost:8080/"
        },
        "id": "GMbsgJs68lDI",
        "outputId": "06e6f9ea-9224-4ac6-c967-be8548b33e8c"
      },
      "execution_count": null,
      "outputs": [
        {
          "output_type": "stream",
          "name": "stdout",
          "text": [
            "1\n",
            "3\n",
            "5\n",
            "7\n",
            "9\n",
            "The loop has completed execution\n"
          ]
        }
      ]
    },
    {
      "cell_type": "code",
      "source": [
        "#break statement\n",
        "\n",
        "for i in range(1,10):\n",
        "  if(i==6):\n",
        "    break\n",
        "  print(i)"
      ],
      "metadata": {
        "colab": {
          "base_uri": "https://localhost:8080/"
        },
        "id": "MslJ9KNm9EOk",
        "outputId": "9b5822d2-c81b-4210-b40d-2b2e5d53d1bb"
      },
      "execution_count": null,
      "outputs": [
        {
          "output_type": "stream",
          "name": "stdout",
          "text": [
            "1\n",
            "2\n",
            "3\n",
            "4\n",
            "5\n"
          ]
        }
      ]
    },
    {
      "cell_type": "code",
      "source": [
        "#continue statement\n",
        "\n",
        "for i in range(1,10):\n",
        "  if(i==6):\n",
        "    continue\n",
        "  print(i)"
      ],
      "metadata": {
        "colab": {
          "base_uri": "https://localhost:8080/"
        },
        "id": "J2myKzwb9RU5",
        "outputId": "a251ac5d-2ced-4c7b-a263-eb5a1a13ca12"
      },
      "execution_count": null,
      "outputs": [
        {
          "output_type": "stream",
          "name": "stdout",
          "text": [
            "1\n",
            "2\n",
            "3\n",
            "4\n",
            "5\n",
            "7\n",
            "8\n",
            "9\n"
          ]
        }
      ]
    },
    {
      "cell_type": "code",
      "source": [
        "#program to display the total goals a player has scored\n",
        "goals = {'Vinod':20,'Sumedh':15,'Vinayak':30,'Pritam':12}\n",
        "player_name = input(\"Enter the player's name: \")\n",
        "\n",
        "for player in goals:\n",
        "  if player == player_name:\n",
        "    print(goals[player])\n",
        "    break\n",
        "else:\n",
        "  print(\"No such player with that name found..\")"
      ],
      "metadata": {
        "colab": {
          "base_uri": "https://localhost:8080/"
        },
        "id": "MRAubfHa9gd2",
        "outputId": "7457ea6f-e71b-4451-d53e-502e2bcd04fd"
      },
      "execution_count": null,
      "outputs": [
        {
          "output_type": "stream",
          "name": "stdout",
          "text": [
            "Enter the player's name: Vidhi\n",
            "No such player with that name found..\n"
          ]
        }
      ]
    },
    {
      "cell_type": "code",
      "source": [
        "#cube of number using for loop\n",
        "num = [2,5,7,4,8,6]\n",
        "print(num)\n",
        "print(\"Cube of numbers: \")\n",
        "cube = []\n",
        "for i in num:\n",
        "  cube.append(i**3)\n",
        "\n",
        "print(cube)\n"
      ],
      "metadata": {
        "colab": {
          "base_uri": "https://localhost:8080/"
        },
        "id": "OeeAsW1gskeL",
        "outputId": "1009b287-0896-4b68-841c-3236fff70c4f"
      },
      "execution_count": null,
      "outputs": [
        {
          "output_type": "stream",
          "name": "stdout",
          "text": [
            "[2, 5, 7, 4, 8, 6]\n",
            "Cube of numbers: \n",
            "[8, 125, 343, 64, 512, 216]\n"
          ]
        }
      ]
    },
    {
      "cell_type": "markdown",
      "source": [
        "# **Pattern** **Printing**\n"
      ],
      "metadata": {
        "id": "sUnVHb--wzRQ"
      }
    },
    {
      "cell_type": "markdown",
      "source": [
        "*  Outer loop is for rows(i)\n",
        "*  Inner loop is for columns(j)"
      ],
      "metadata": {
        "id": "Y0C62DtSWUoo"
      }
    },
    {
      "cell_type": "code",
      "source": [
        "#1. simple line\n",
        "n = int(input(\"Enter number: \"))\n",
        "for i in range(n):\n",
        "  print(\"*\",end=\" \")"
      ],
      "metadata": {
        "colab": {
          "base_uri": "https://localhost:8080/"
        },
        "id": "aGoElVSCxmf-",
        "outputId": "38da2c2b-918a-4001-c0a7-7f5ff30dd967"
      },
      "execution_count": null,
      "outputs": [
        {
          "output_type": "stream",
          "name": "stdout",
          "text": [
            "Enter number: 6\n",
            "* * * * * * "
          ]
        }
      ]
    },
    {
      "cell_type": "code",
      "source": [
        "#2. Simple square\n",
        "n = int(input(\"Enter number of rows: \"))\n",
        "for i in range(n):\n",
        "  for j in range(n):\n",
        "    print(\"*\",end=\" \")\n",
        "  print()"
      ],
      "metadata": {
        "colab": {
          "base_uri": "https://localhost:8080/"
        },
        "id": "hwXFupf0yht4",
        "outputId": "f906f8ac-bbff-4017-ffaa-8770a6b3295f"
      },
      "execution_count": null,
      "outputs": [
        {
          "output_type": "stream",
          "name": "stdout",
          "text": [
            "Enter number of rows: 5\n",
            "* * * * * \n",
            "* * * * * \n",
            "* * * * * \n",
            "* * * * * \n",
            "* * * * * \n"
          ]
        }
      ]
    },
    {
      "cell_type": "code",
      "source": [
        "#2. left-angled traingle\n",
        "n = int(input(\"Enter number of rows: \"))\n",
        "for i in range(n): #number of rows\n",
        "  for j in range(i+1): #each time is increased that is number of columns(1,2,3,4..)\n",
        "    print(\"*\", end=\" \")\n",
        "  print()"
      ],
      "metadata": {
        "colab": {
          "base_uri": "https://localhost:8080/"
        },
        "id": "rxOJV_Cuyto-",
        "outputId": "1e738807-fa41-4749-da7c-b3021d61a844"
      },
      "execution_count": null,
      "outputs": [
        {
          "output_type": "stream",
          "name": "stdout",
          "text": [
            "Enter number of rows: 5\n",
            "* \n",
            "* * \n",
            "* * * \n",
            "* * * * \n",
            "* * * * * \n"
          ]
        }
      ]
    },
    {
      "cell_type": "code",
      "source": [
        "#3. Decreasing traingle\n",
        "n = int(input(\"Enter number of rows: \"))\n",
        "for i in range(n): #number of rows\n",
        "  for j in range(i,n): #each time number of columns are decreased i.e. (0,5);(1,5);(2,5);(3,5);(4,5)\n",
        "    print(\"*\", end=\" \")\n",
        "  print()"
      ],
      "metadata": {
        "colab": {
          "base_uri": "https://localhost:8080/"
        },
        "id": "SqmZmzRG5ae8",
        "outputId": "823bd74b-2501-4314-8966-d099fd50a146"
      },
      "execution_count": null,
      "outputs": [
        {
          "output_type": "stream",
          "name": "stdout",
          "text": [
            "Enter number of rows: 5\n",
            "* * * * * \n",
            "* * * * \n",
            "* * * \n",
            "* * \n",
            "* \n"
          ]
        }
      ]
    },
    {
      "cell_type": "code",
      "source": [
        "#right sided traingle\n",
        "n = int(input(\"Enter number of rows: \"))\n",
        "for i in range(n):\n",
        "  for j in range(i,n): #print(1,5)i.e. 4 spaces; print(2,5)i.e. 3 spaces...\n",
        "    print(\" \", end=\" \")\n",
        "  for j in range(i+1): #print(0+1)=1 star; print(1+1)=2 star...\n",
        "    print(\"*\", end=\" \")\n",
        "  print() #next line"
      ],
      "metadata": {
        "colab": {
          "base_uri": "https://localhost:8080/"
        },
        "id": "RbFeAt8_7Brl",
        "outputId": "074dbb77-47ae-47c1-82ab-4f7a8d9444a5"
      },
      "execution_count": null,
      "outputs": [
        {
          "output_type": "stream",
          "name": "stdout",
          "text": [
            "Enter number of rows: 5\n",
            "          * \n",
            "        * * \n",
            "      * * * \n",
            "    * * * * \n",
            "  * * * * * \n"
          ]
        }
      ]
    },
    {
      "cell_type": "code",
      "source": [
        "#inverted right sided traingle\n",
        "n = int(input(\"Enter number of rows: \"))\n",
        "for i in range(n):\n",
        "  for j in range(i+1): #each time is increased that is number of columns(1,2,3,4..)\n",
        "    print(\" \", end=\" \")\n",
        "  for j in range(i,n): #print(0,5)=5 star; print(1,5)=4 sta...\n",
        "    print(\"*\", end=\" \")\n",
        "  print() #next line"
      ],
      "metadata": {
        "colab": {
          "base_uri": "https://localhost:8080/"
        },
        "id": "DJwnDzUWANwC",
        "outputId": "ff6ed314-4850-4d38-f72f-e6ed92c8eb0a"
      },
      "execution_count": null,
      "outputs": [
        {
          "output_type": "stream",
          "name": "stdout",
          "text": [
            "Enter number of rows: 5\n",
            "  * * * * * \n",
            "    * * * * \n",
            "      * * * \n",
            "        * * \n",
            "          * \n"
          ]
        }
      ]
    },
    {
      "cell_type": "markdown",
      "source": [
        "# Functions"
      ],
      "metadata": {
        "id": "4UO6cFztWcAQ"
      }
    },
    {
      "cell_type": "markdown",
      "source": [
        "\n",
        "*   A function is a block of code which only runs when it is called. you can pass data, known as parameters, into a function.\n",
        "*  A function can return data as a result\n",
        "\n"
      ],
      "metadata": {
        "id": "QEyXRqSGuH0x"
      }
    },
    {
      "cell_type": "code",
      "source": [
        "def my_func():\n",
        "  print(\"Hello from the function!!\")\n",
        "\n",
        "my_func()"
      ],
      "metadata": {
        "colab": {
          "base_uri": "https://localhost:8080/"
        },
        "id": "t5RLv8ADuhXs",
        "outputId": "b22f5c00-a6ef-465c-b0d7-e2ce0758dcca"
      },
      "execution_count": null,
      "outputs": [
        {
          "output_type": "stream",
          "name": "stdout",
          "text": [
            "Hello from the function!!\n"
          ]
        }
      ]
    },
    {
      "cell_type": "code",
      "source": [
        "def func_1(fname):\n",
        "  print(\"Hello\",fname)\n",
        "\n",
        "func_1(\"sakshi\")\n",
        "func_1(\"vinod\")"
      ],
      "metadata": {
        "colab": {
          "base_uri": "https://localhost:8080/"
        },
        "id": "ZVQ7rZ1_u64j",
        "outputId": "dd9c81e7-dc05-46ff-c507-4395ea4dc4f6"
      },
      "execution_count": null,
      "outputs": [
        {
          "output_type": "stream",
          "name": "stdout",
          "text": [
            "Hello sakshi\n",
            "Hello vinod\n"
          ]
        }
      ]
    },
    {
      "cell_type": "code",
      "source": [
        "def func_1(fname,lname):\n",
        "  print(\"Hello\",fname,lname)\n",
        "\n",
        "func_1(\"sakshi\",\"shenvekar\")"
      ],
      "metadata": {
        "colab": {
          "base_uri": "https://localhost:8080/"
        },
        "id": "o-PaVALPw5oN",
        "outputId": "aa6010bf-0fc4-4777-aec6-0fb0c153ba7e"
      },
      "execution_count": null,
      "outputs": [
        {
          "output_type": "stream",
          "name": "stdout",
          "text": [
            "Hello sakshi shenvekar\n"
          ]
        }
      ]
    },
    {
      "cell_type": "code",
      "source": [
        "#default arguments or #keywords\n",
        "def power(a=2,b=3):\n",
        "  return a**b\n",
        "\n",
        "print(power(3,3))\n",
        "print(power())"
      ],
      "metadata": {
        "colab": {
          "base_uri": "https://localhost:8080/"
        },
        "id": "aJPnjVkExTKv",
        "outputId": "ef5668ea-d07f-4424-a5ce-a7fb35b421a4"
      },
      "execution_count": null,
      "outputs": [
        {
          "output_type": "stream",
          "name": "stdout",
          "text": [
            "27\n",
            "8\n"
          ]
        }
      ]
    },
    {
      "cell_type": "code",
      "source": [
        "#positional arguments\n",
        "print(power(5,3))"
      ],
      "metadata": {
        "colab": {
          "base_uri": "https://localhost:8080/"
        },
        "id": "j-cOE2-Zx3U2",
        "outputId": "19bb7cc1-4ab3-4b99-e1b9-c611233bdcab"
      },
      "execution_count": null,
      "outputs": [
        {
          "output_type": "stream",
          "name": "stdout",
          "text": [
            "125\n"
          ]
        }
      ]
    },
    {
      "cell_type": "code",
      "source": [
        "num = int(input(\"Enter a number: \"))\n",
        "def even_odd(num):\n",
        "  if num%2 == 0:\n",
        "    return \"Number is even\"\n",
        "  else:\n",
        "    return \"Number is odd\"\n",
        "\n",
        "even_odd(num)"
      ],
      "metadata": {
        "colab": {
          "base_uri": "https://localhost:8080/",
          "height": 53
        },
        "id": "NJ-kPzs5yEZH",
        "outputId": "80d1aa62-2a7d-4f1c-bc77-5c561735fa21"
      },
      "execution_count": null,
      "outputs": [
        {
          "name": "stdout",
          "output_type": "stream",
          "text": [
            "Enter a number: 6\n"
          ]
        },
        {
          "output_type": "execute_result",
          "data": {
            "text/plain": [
              "'Number is even'"
            ],
            "application/vnd.google.colaboratory.intrinsic+json": {
              "type": "string"
            }
          },
          "metadata": {},
          "execution_count": 17
        }
      ]
    },
    {
      "cell_type": "code",
      "source": [
        "def is_even(num):\n",
        "  if type(num) == int:\n",
        "    if num % 2 == 0:\n",
        "      return \"even\"\n",
        "    else:\n",
        "      return \"odd\"\n",
        "  else:\n",
        "    return \"Do not try again\"\n",
        "\n",
        "for i in range(1,11):\n",
        "  x = is_even(i)\n",
        "  print(i,x)"
      ],
      "metadata": {
        "colab": {
          "base_uri": "https://localhost:8080/"
        },
        "id": "t7RVh5_jzl4i",
        "outputId": "6d32cd2d-301d-4931-c6d3-94313ab911f4"
      },
      "execution_count": null,
      "outputs": [
        {
          "output_type": "stream",
          "name": "stdout",
          "text": [
            "1 odd\n",
            "2 even\n",
            "3 odd\n",
            "4 even\n",
            "5 odd\n",
            "6 even\n",
            "7 odd\n",
            "8 even\n",
            "9 odd\n",
            "10 even\n"
          ]
        }
      ]
    }
  ],
  "metadata": {
    "colab": {
      "provenance": [],
      "authorship_tag": "ABX9TyNKBNkDmRZLsFwj5NFbqb7l",
      "include_colab_link": true
    },
    "kernelspec": {
      "display_name": "Python 3",
      "name": "python3"
    },
    "language_info": {
      "name": "python"
    }
  },
  "nbformat": 4,
  "nbformat_minor": 0
}